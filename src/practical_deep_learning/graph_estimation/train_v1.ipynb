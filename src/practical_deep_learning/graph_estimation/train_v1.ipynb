{
 "cells": [
  {
   "cell_type": "code",
   "execution_count": null,
   "id": "0",
   "metadata": {},
   "outputs": [],
   "source": [
    "import matplotlib.pyplot as plt\n",
    "import numpy as np\n",
    "import os\n",
    "import random   \n",
    "\n",
    "NUM_IMAGES = 1000   \n",
    "\n",
    "# Create data directory if it doesn't exist\n",
    "os.makedirs('data/x_2', exist_ok=True)\n",
    "\n",
    "# Create x values from -10 to 10\n",
    "x = np.linspace(-10, 10, 100)\n",
    "\n",
    "\n",
    "for i in range(NUM_IMAGES):\n",
    "\n",
    "    \n",
    "    a = random.uniform(-100.0, 100.0)\n",
    "    b = random.uniform(-100.0, 100.0)\n",
    "\n",
    "    a = round(a, 2)\n",
    "    b = round(b, 2)\n",
    "\n",
    "    print(f\"a: {a}, b: {b}\")\n",
    "\n",
    "\n",
    "    # Generate the quadratic function\n",
    "    y = a * x**2 + b * x \n",
    "\n",
    "    # Create figure with square aspect ratio\n",
    "    fig, ax = plt.subplots(figsize=(10, 10))\n",
    "    ax.plot(x, y, linewidth=4)\n",
    "    ax.set_xticks([])\n",
    "    ax.set_yticks([])\n",
    "\n",
    "\n",
    "    # Save the plot\n",
    "    file_name = f'data/x_2/a_{a}_b_{b}'\n",
    "    # replace . with _\n",
    "    file_name = file_name.replace('.', '_')\n",
    "    file_name = file_name + '.png'\n",
    "    plt.savefig(file_name, dpi=10)\n",
    "    plt.close()  # Close the figure to prevent it from being displayed\n",
    "    print(f\"Plot saved to {file_name}\")\n",
    "\n",
    "\n"
   ]
  },
  {
   "cell_type": "code",
   "execution_count": null,
   "id": "1",
   "metadata": {},
   "outputs": [],
   "source": [
    "import matplotlib.pyplot as plt\n",
    "import numpy as np\n",
    "import os\n",
    "import random   \n",
    "\n",
    "NUM_IMAGES = 1000\n",
    "\n",
    "os.makedirs('data/x_3', exist_ok=True)\n",
    "\n",
    "\n",
    "# Create x values from -10 to 10\n",
    "x = np.linspace(-10, 10, 100)\n",
    "\n",
    "\n",
    "for i in range(NUM_IMAGES):\n",
    "    a = random.uniform(-100.0, 100.0)\n",
    "    b = random.uniform(-100.0, 100.0)\n",
    "    c = random.uniform(-100.0, 100.0)\n",
    "\n",
    "    a = round(a, 2)\n",
    "    b = round(b, 2)\n",
    "    c = round(c, 2)\n",
    "\n",
    "    print(f\"a: {a}, b: {b}, c: {c}\")\n",
    "\n",
    "\n",
    "    # Generate the quadratic function\n",
    "    y = a * x**3 + b * x**2 + c * x \n",
    "\n",
    "    # Create figure with square aspect ratio\n",
    "    fig, ax = plt.subplots(figsize=(10, 10))\n",
    "    ax.plot(x, y, linewidth=4)\n",
    "    ax.set_xticks([])\n",
    "    ax.set_yticks([])\n",
    "\n",
    "\n",
    "    # Save the plot\n",
    "    file_name = f'data/x_3/a_{a}_b_{b}_c_{c}'\n",
    "    # replace . with _\n",
    "    file_name = file_name.replace('.', '_')\n",
    "    file_name = file_name + '.png'\n",
    "    plt.savefig(file_name, dpi=10)\n",
    "    plt.close()  # Close the figure to prevent it from being displayed\n",
    "    print(f\"Plot saved to {file_name}\")\n",
    "\n",
    "\n"
   ]
  },
  {
   "cell_type": "code",
   "execution_count": null,
   "id": "2",
   "metadata": {},
   "outputs": [],
   "source": [
    "from fastai.vision.all import *\n",
    "\n",
    "path = Path('data')\n",
    "\n",
    "dls = DataBlock(\n",
    "    blocks=(ImageBlock, CategoryBlock), \n",
    "    get_items=get_image_files, \n",
    "    splitter=RandomSplitter(valid_pct=0.2, seed=42),\n",
    "    get_y=parent_label\n",
    ").dataloaders(path, bs=32)\n",
    "\n",
    "dls.show_batch(max_n=10)"
   ]
  },
  {
   "cell_type": "code",
   "execution_count": null,
   "id": "3",
   "metadata": {},
   "outputs": [],
   "source": [
    "learn = vision_learner(dls, resnet18, metrics=error_rate)\n",
    "learn.fine_tune(10)"
   ]
  },
  {
   "cell_type": "code",
   "execution_count": null,
   "id": "4",
   "metadata": {},
   "outputs": [],
   "source": [
    "label,_,probs = learn.predict('data/x_3/a_-19_13_b_54_53_c_-86_4.png')\n",
    "print(f\"This is a: {label}.\")"
   ]
  },
  {
   "cell_type": "code",
   "execution_count": null,
   "id": "5",
   "metadata": {},
   "outputs": [],
   "source": [
    "interp = ClassificationInterpretation.from_learner(learn)\n",
    "interp.plot_confusion_matrix(figsize=(12,12), dpi=60)"
   ]
  },
  {
   "cell_type": "code",
   "execution_count": null,
   "id": "6",
   "metadata": {},
   "outputs": [],
   "source": []
  }
 ],
 "metadata": {
  "kernelspec": {
   "display_name": ".venv",
   "language": "python",
   "name": "python3"
  },
  "language_info": {
   "codemirror_mode": {
    "name": "ipython",
    "version": 3
   },
   "file_extension": ".py",
   "mimetype": "text/x-python",
   "name": "python",
   "nbconvert_exporter": "python",
   "pygments_lexer": "ipython3",
   "version": "3.12.3"
  }
 },
 "nbformat": 4,
 "nbformat_minor": 5
}
