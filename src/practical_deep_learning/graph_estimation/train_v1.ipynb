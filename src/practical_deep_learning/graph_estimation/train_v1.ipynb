{
 "cells": [
  {
   "cell_type": "code",
   "execution_count": null,
   "id": "0",
   "metadata": {},
   "outputs": [],
   "source": [
    "import matplotlib.pyplot as plt\n",
    "import numpy as np\n",
    "import os\n",
    "import random   \n",
    "\n",
    "NUM_IMAGES = 1000\n",
    "\n",
    "# Create data directory if it doesn't exist\n",
    "\n",
    "\n",
    "# Create x values from -10 to 10\n",
    "x = np.linspace(-10, 10, 100)\n",
    "\n",
    "def get_random_quadratic(x):\n",
    "    a = random.uniform(-100.0, 100.0)\n",
    "    b = random.uniform(-100.0, 100.0)\n",
    "\n",
    "    a = round(a, 2)\n",
    "    b = round(b, 2)\n",
    "\n",
    "    return a * x**2 + b * x \n",
    "\n",
    "def get_random_cubic(x):\n",
    "    a = random.uniform(-100.0, 100.0)\n",
    "    b = random.uniform(-100.0, 100.0)\n",
    "    c = random.uniform(-100.0, 100.0)\n",
    "\n",
    "    a = round(a, 2)\n",
    "    b = round(b, 2)\n",
    "    c = round(c, 2)\n",
    "\n",
    "    return a * x**3 + b * x**2 + c * x \n",
    "\n",
    "def save_plot(x, y, i, folder):\n",
    "    # Create figure with square aspect ratio\n",
    "    fig, ax = plt.subplots(figsize=(10, 10))\n",
    "    ax.plot(x, y, linewidth=4)\n",
    "    ax.set_xticks([])\n",
    "    ax.set_yticks([])\n",
    "\n",
    "    folder_name = f'data/{folder}'\n",
    "\n",
    "    os.makedirs(folder_name, exist_ok=True)\n",
    "\n",
    "    file_name = f'{folder_name}/{i}.png'\n",
    "    plt.savefig(file_name, dpi=10)\n",
    "    plt.close()  # Close the figure to prevent it from being displayed\n",
    "    print(f\"Plot saved to {file_name}\")\n",
    "\n",
    "\n",
    "for i in range(NUM_IMAGES):\n",
    "    y_quadratic = get_random_quadratic(x)\n",
    "    save_plot(x, y_quadratic, i, 'x_2')  \n",
    "\n",
    "    y_cubic = get_random_cubic(x)\n",
    "    save_plot(x, y_cubic, i, 'x_3')\n",
    "\n",
    "\n",
    "\n",
    "\n",
    "\n"
   ]
  },
  {
   "cell_type": "code",
   "execution_count": null,
   "id": "1",
   "metadata": {},
   "outputs": [],
   "source": [
    "from fastai.vision.all import *\n",
    "\n",
    "path = Path('data')\n",
    "\n",
    "dls = DataBlock(\n",
    "    blocks=(ImageBlock, CategoryBlock), \n",
    "    get_items=get_image_files, \n",
    "    splitter=RandomSplitter(valid_pct=0.2, seed=42),\n",
    "    get_y=parent_label\n",
    ").dataloaders(path, bs=32)\n",
    "\n",
    "dls.show_batch(max_n=10)"
   ]
  },
  {
   "cell_type": "code",
   "execution_count": null,
   "id": "2",
   "metadata": {},
   "outputs": [],
   "source": [
    "learn = vision_learner(dls, resnet18, metrics=error_rate)\n",
    "learn.fine_tune(10)"
   ]
  },
  {
   "cell_type": "code",
   "execution_count": null,
   "id": "3",
   "metadata": {},
   "outputs": [],
   "source": [
    "label,_,probs = learn.predict('data/x_3/1.png')\n",
    "print(f\"This is a: {label}.\")"
   ]
  },
  {
   "cell_type": "code",
   "execution_count": null,
   "id": "4",
   "metadata": {},
   "outputs": [],
   "source": [
    "interp = ClassificationInterpretation.from_learner(learn)\n",
    "interp.plot_confusion_matrix(figsize=(12,12), dpi=60)"
   ]
  },
  {
   "cell_type": "code",
   "execution_count": null,
   "id": "5",
   "metadata": {},
   "outputs": [],
   "source": []
  }
 ],
 "metadata": {
  "kernelspec": {
   "display_name": ".venv",
   "language": "python",
   "name": "python3"
  },
  "language_info": {
   "codemirror_mode": {
    "name": "ipython",
    "version": 3
   },
   "file_extension": ".py",
   "mimetype": "text/x-python",
   "name": "python",
   "nbconvert_exporter": "python",
   "pygments_lexer": "ipython3",
   "version": "3.12.3"
  }
 },
 "nbformat": 4,
 "nbformat_minor": 5
}
